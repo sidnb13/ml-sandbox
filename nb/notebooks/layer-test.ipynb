{
 "cells": [
  {
   "cell_type": "code",
   "execution_count": 1,
   "metadata": {},
   "outputs": [],
   "source": [
    "import torch"
   ]
  },
  {
   "cell_type": "code",
   "execution_count": 2,
   "metadata": {},
   "outputs": [],
   "source": [
    "bruh = torch.nn.Linear(1, 1)"
   ]
  },
  {
   "cell_type": "code",
   "execution_count": 3,
   "metadata": {},
   "outputs": [
    {
     "data": {
      "text/plain": [
       "<generator object Module.parameters at 0x10714ac70>"
      ]
     },
     "execution_count": 3,
     "metadata": {},
     "output_type": "execute_result"
    }
   ],
   "source": [
    "bruh.parameters()"
   ]
  },
  {
   "cell_type": "code",
   "execution_count": 2,
   "metadata": {},
   "outputs": [],
   "source": [
    "multihead = torch.nn.MultiheadAttention(512, 2)"
   ]
  },
  {
   "cell_type": "code",
   "execution_count": 3,
   "metadata": {},
   "outputs": [],
   "source": [
    "query = key = value = torch.rand(4, 512)"
   ]
  },
  {
   "cell_type": "code",
   "execution_count": 3,
   "metadata": {},
   "outputs": [],
   "source": [
    "mask = torch.tril(torch.ones(4, 4, 4))"
   ]
  },
  {
   "cell_type": "code",
   "execution_count": 6,
   "metadata": {},
   "outputs": [],
   "source": [
    "a,b,c = mask.size()"
   ]
  },
  {
   "cell_type": "code",
   "execution_count": 7,
   "metadata": {},
   "outputs": [
    {
     "data": {
      "text/plain": [
       "(4, 4, 4)"
      ]
     },
     "execution_count": 7,
     "metadata": {},
     "output_type": "execute_result"
    }
   ],
   "source": [
    "a,b,c"
   ]
  },
  {
   "cell_type": "code",
   "execution_count": 14,
   "metadata": {},
   "outputs": [],
   "source": [
    "test = torch.arange(0, torch.prod(torch.tensor(mask.shape))).reshape_as(mask)"
   ]
  },
  {
   "cell_type": "code",
   "execution_count": 17,
   "metadata": {},
   "outputs": [
    {
     "data": {
      "text/plain": [
       "tensor([[[ 0,  2],\n",
       "         [ 4,  6],\n",
       "         [ 8, 10],\n",
       "         [12, 14]],\n",
       "\n",
       "        [[16, 18],\n",
       "         [20, 22],\n",
       "         [24, 26],\n",
       "         [28, 30]],\n",
       "\n",
       "        [[32, 34],\n",
       "         [36, 38],\n",
       "         [40, 42],\n",
       "         [44, 46]],\n",
       "\n",
       "        [[48, 50],\n",
       "         [52, 54],\n",
       "         [56, 58],\n",
       "         [60, 62]]])"
      ]
     },
     "execution_count": 17,
     "metadata": {},
     "output_type": "execute_result"
    }
   ],
   "source": [
    "test[:,:, 0::2]"
   ]
  },
  {
   "cell_type": "code",
   "execution_count": 18,
   "metadata": {},
   "outputs": [
    {
     "data": {
      "text/plain": [
       "tensor([[[ 1,  3],\n",
       "         [ 5,  7],\n",
       "         [ 9, 11],\n",
       "         [13, 15]],\n",
       "\n",
       "        [[17, 19],\n",
       "         [21, 23],\n",
       "         [25, 27],\n",
       "         [29, 31]],\n",
       "\n",
       "        [[33, 35],\n",
       "         [37, 39],\n",
       "         [41, 43],\n",
       "         [45, 47]],\n",
       "\n",
       "        [[49, 51],\n",
       "         [53, 55],\n",
       "         [57, 59],\n",
       "         [61, 63]]])"
      ]
     },
     "execution_count": 18,
     "metadata": {},
     "output_type": "execute_result"
    }
   ],
   "source": [
    "test[:,:, 1::2]"
   ]
  },
  {
   "cell_type": "code",
   "execution_count": 75,
   "metadata": {},
   "outputs": [],
   "source": [
    "def positional_encoding(x: torch.Tensor, embed_weights: torch.Tensor):\n",
    "    pos = torch.arange(0, x.size(1), dtype=torch.float)\n",
    "    pos_encoding = torch.stack(\n",
    "        [pos / pow(10000, (2 * dim // 2) / x.size(-1)) for dim in range(x.size(-1))],\n",
    "    ).transpose_(0, 1)\n",
    "    print(pos_encoding.shape)\n",
    "    # assign positional encodings as non-trainable weights\n",
    "    embed_weights.requires_grad = False\n",
    "    embed_weights[:, 0::2] = torch.sin(pos_encoding[:, 0::2])\n",
    "    embed_weights[:, 1::2] = torch.cos(pos_encoding[:, 1::2])"
   ]
  },
  {
   "cell_type": "code",
   "execution_count": 81,
   "metadata": {},
   "outputs": [],
   "source": [
    "embed = torch.nn.Embedding(4, 512)\n",
    "wei = embed.weight\n",
    "x = torch.rand(4, 4, 512)"
   ]
  },
  {
   "cell_type": "code",
   "execution_count": 85,
   "metadata": {},
   "outputs": [],
   "source": [
    "out = embed(torch.randint(0, 4, (4, 4)))"
   ]
  },
  {
   "cell_type": "code",
   "execution_count": 86,
   "metadata": {},
   "outputs": [
    {
     "data": {
      "text/plain": [
       "torch.Size([4, 4, 512])"
      ]
     },
     "execution_count": 86,
     "metadata": {},
     "output_type": "execute_result"
    }
   ],
   "source": [
    "out.shape"
   ]
  },
  {
   "cell_type": "code",
   "execution_count": 80,
   "metadata": {},
   "outputs": [
    {
     "data": {
      "text/plain": [
       "torch.Size([4, 512])"
      ]
     },
     "execution_count": 80,
     "metadata": {},
     "output_type": "execute_result"
    }
   ],
   "source": [
    "wei.shape"
   ]
  },
  {
   "cell_type": "code",
   "execution_count": 77,
   "metadata": {},
   "outputs": [
    {
     "name": "stdout",
     "output_type": "stream",
     "text": [
      "torch.Size([4, 512])\n"
     ]
    }
   ],
   "source": [
    "positional_encoding(x, wei)"
   ]
  },
  {
   "cell_type": "code",
   "execution_count": 79,
   "metadata": {},
   "outputs": [
    {
     "data": {
      "text/plain": [
       "torch.Size([4, 512])"
      ]
     },
     "execution_count": 79,
     "metadata": {},
     "output_type": "execute_result"
    }
   ],
   "source": [
    "wei.shape"
   ]
  },
  {
   "cell_type": "code",
   "execution_count": 5,
   "metadata": {},
   "outputs": [],
   "source": [
    "attn_out, attn_weights = multihead(\n",
    "    query,\n",
    "    key,\n",
    "    value,\n",
    "    need_weights=True,\n",
    "    attn_mask=mask,\n",
    "    is_causal=True,\n",
    "    average_attn_weights=False,\n",
    ")"
   ]
  },
  {
   "cell_type": "code",
   "execution_count": 6,
   "metadata": {},
   "outputs": [
    {
     "data": {
      "text/plain": [
       "tensor([[[0.4405, 0.1944, 0.1805, 0.1846],\n",
       "         [0.3297, 0.4034, 0.1335, 0.1334],\n",
       "         [0.2606, 0.3206, 0.2937, 0.1251],\n",
       "         [0.2115, 0.2641, 0.2601, 0.2643]],\n",
       "\n",
       "        [[0.4797, 0.1760, 0.1547, 0.1896],\n",
       "         [0.3552, 0.3697, 0.1316, 0.1434],\n",
       "         [0.3056, 0.2928, 0.2864, 0.1152],\n",
       "         [0.2538, 0.2417, 0.2456, 0.2589]]], grad_fn=<SqueezeBackward1>)"
      ]
     },
     "execution_count": 6,
     "metadata": {},
     "output_type": "execute_result"
    }
   ],
   "source": [
    "attn_weights"
   ]
  },
  {
   "cell_type": "code",
   "execution_count": 7,
   "metadata": {},
   "outputs": [
    {
     "data": {
      "text/plain": [
       "tensor([[-0.1563, -0.4218, -0.1676,  ...,  0.0779, -0.1374, -0.0954],\n",
       "        [-0.1182, -0.4663, -0.1266,  ...,  0.0345, -0.1591, -0.1155],\n",
       "        [-0.1184, -0.4627, -0.1247,  ...,  0.0680, -0.1185, -0.1001],\n",
       "        [-0.0914, -0.4527, -0.1364,  ...,  0.0766, -0.1253, -0.0670]],\n",
       "       grad_fn=<SqueezeBackward1>)"
      ]
     },
     "execution_count": 7,
     "metadata": {},
     "output_type": "execute_result"
    }
   ],
   "source": [
    "attn_out"
   ]
  },
  {
   "cell_type": "code",
   "execution_count": null,
   "metadata": {},
   "outputs": [],
   "source": []
  }
 ],
 "metadata": {
  "kernelspec": {
   "display_name": "torchml",
   "language": "python",
   "name": "python3"
  },
  "language_info": {
   "codemirror_mode": {
    "name": "ipython",
    "version": 3
   },
   "file_extension": ".py",
   "mimetype": "text/x-python",
   "name": "python",
   "nbconvert_exporter": "python",
   "pygments_lexer": "ipython3",
   "version": "3.10.10"
  },
  "orig_nbformat": 4
 },
 "nbformat": 4,
 "nbformat_minor": 2
}
