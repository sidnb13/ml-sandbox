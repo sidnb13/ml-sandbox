{
 "cells": [
  {
   "cell_type": "code",
   "execution_count": 23,
   "metadata": {},
   "outputs": [],
   "source": [
    "import torch\n",
    "from torch import nn\n",
    "from torch.utils.data import DataLoader, TensorDataset"
   ]
  },
  {
   "cell_type": "code",
   "execution_count": 37,
   "metadata": {},
   "outputs": [],
   "source": [
    "T = 200"
   ]
  },
  {
   "cell_type": "code",
   "execution_count": 38,
   "metadata": {},
   "outputs": [],
   "source": [
    "time = torch.arange(1, T + 1, dtype=torch.float32)\n",
    "x = torch.sin(0.01 * time) + torch.randn(T) * 0.2\n",
    "tau = 50"
   ]
  },
  {
   "cell_type": "code",
   "execution_count": 39,
   "metadata": {},
   "outputs": [],
   "source": [
    "features = torch.stack([x[t: T - tau + t] for t in range(tau)], dim=1)\n",
    "labels = x[tau:].reshape((-1, 1))"
   ]
  },
  {
   "cell_type": "code",
   "execution_count": 40,
   "metadata": {},
   "outputs": [
    {
     "data": {
      "text/plain": [
       "torch.Size([150, 50])"
      ]
     },
     "execution_count": 40,
     "metadata": {},
     "output_type": "execute_result"
    }
   ],
   "source": [
    "features.shape"
   ]
  },
  {
   "cell_type": "code",
   "execution_count": 41,
   "metadata": {},
   "outputs": [
    {
     "data": {
      "text/plain": [
       "torch.Size([150, 1])"
      ]
     },
     "execution_count": 41,
     "metadata": {},
     "output_type": "execute_result"
    }
   ],
   "source": [
    "labels.shape"
   ]
  },
  {
   "cell_type": "code",
   "execution_count": 42,
   "metadata": {},
   "outputs": [],
   "source": [
    "dataloader = DataLoader(TensorDataset(features[:len(features) - 100], labels[:len(features) - 100]), batch_size=1, shuffle=True)"
   ]
  },
  {
   "cell_type": "code",
   "execution_count": 43,
   "metadata": {},
   "outputs": [],
   "source": [
    "val_loader = DataLoader(TensorDataset(features[-100:], labels[-100:]), batch_size=1, shuffle=False)"
   ]
  },
  {
   "cell_type": "code",
   "execution_count": 44,
   "metadata": {},
   "outputs": [
    {
     "name": "stdout",
     "output_type": "stream",
     "text": [
      "[tensor([[ 0.0329, -0.1116, -0.0430,  0.2754,  0.5573,  0.2633,  0.3522,  0.1889,\n",
      "          0.4153, -0.2685,  0.2520,  0.2593,  0.0136,  0.0028,  0.3988,  0.3097,\n",
      "          0.2838,  0.3626,  0.3331,  0.1046,  0.3038, -0.0018,  0.5099,  0.4191,\n",
      "          0.4650,  0.3839,  0.5900,  0.3472,  0.8398,  0.1206,  0.7195,  0.1391,\n",
      "          0.7940,  0.2899,  0.4240,  0.3432,  0.3446,  0.3947,  0.8026,  0.1959,\n",
      "          0.4477,  0.5315,  0.3475,  0.5878,  0.4623,  0.4390,  0.5442,  0.8262,\n",
      "          0.3848,  0.4464]]), tensor([[0.5239]])]\n"
     ]
    }
   ],
   "source": [
    "print(next(iter(dataloader)))"
   ]
  },
  {
   "attachments": {},
   "cell_type": "markdown",
   "metadata": {},
   "source": [
    "Training"
   ]
  },
  {
   "cell_type": "code",
   "execution_count": 45,
   "metadata": {},
   "outputs": [],
   "source": [
    "class LinearModel(nn.Module):\n",
    "    def __init__(self) -> None:\n",
    "        super().__init__()\n",
    "        \n",
    "        self.linear = nn.Linear(tau, 1)\n",
    "        \n",
    "    def forward(self, x):\n",
    "        return self.linear(x)"
   ]
  },
  {
   "cell_type": "code",
   "execution_count": 52,
   "metadata": {},
   "outputs": [],
   "source": [
    "lin_model = LinearModel()"
   ]
  },
  {
   "cell_type": "code",
   "execution_count": 53,
   "metadata": {},
   "outputs": [],
   "source": [
    "opt = torch.optim.SGD(lin_model.parameters(), lr=0.01)\n",
    "criterion = nn.MSELoss()"
   ]
  },
  {
   "cell_type": "code",
   "execution_count": 54,
   "metadata": {},
   "outputs": [
    {
     "name": "stdout",
     "output_type": "stream",
     "text": [
      "Epoch: 0, Tr_Loss: 0.0594, Val_Loss: 0.2171\n",
      "Epoch: 1, Tr_Loss: 0.0479, Val_Loss: 0.0884\n",
      "Epoch: 2, Tr_Loss: 0.0432, Val_Loss: 0.1200\n",
      "Epoch: 3, Tr_Loss: 0.0412, Val_Loss: 0.0728\n",
      "Epoch: 4, Tr_Loss: 0.0360, Val_Loss: 0.0637\n",
      "Epoch: 5, Tr_Loss: 0.0350, Val_Loss: 0.0805\n",
      "Epoch: 6, Tr_Loss: 0.0307, Val_Loss: 0.0651\n",
      "Epoch: 7, Tr_Loss: 0.0303, Val_Loss: 0.1033\n",
      "Epoch: 8, Tr_Loss: 0.0266, Val_Loss: 0.0781\n",
      "Epoch: 9, Tr_Loss: 0.0311, Val_Loss: 0.0668\n"
     ]
    }
   ],
   "source": [
    "for epoch in range(10):\n",
    "    tr_loss = 0\n",
    "    val_loss = 0\n",
    "    \n",
    "    for x, y in dataloader:\n",
    "        y_hat = lin_model(x)\n",
    "        loss = criterion(y_hat, y)\n",
    "        \n",
    "        tr_loss += loss\n",
    "        \n",
    "        opt.zero_grad()\n",
    "        loss.backward()\n",
    "        opt.step()\n",
    "        \n",
    "    tr_loss = tr_loss / len(dataloader)\n",
    "        \n",
    "    with torch.no_grad():\n",
    "        for x, y in val_loader:\n",
    "            vloss = criterion(lin_model(x), y)\n",
    "            val_loss += vloss\n",
    "        \n",
    "        val_loss = val_loss / len(val_loader)\n",
    "    \n",
    "    print(f'Epoch: {epoch}, Tr_Loss: {tr_loss.item():.4f}, Val_Loss: {val_loss.item():.4f}')\n",
    "    "
   ]
  },
  {
   "cell_type": "code",
   "execution_count": null,
   "metadata": {},
   "outputs": [],
   "source": []
  }
 ],
 "metadata": {
  "kernelspec": {
   "display_name": "sandbox",
   "language": "python",
   "name": "python3"
  },
  "language_info": {
   "codemirror_mode": {
    "name": "ipython",
    "version": 3
   },
   "file_extension": ".py",
   "mimetype": "text/x-python",
   "name": "python",
   "nbconvert_exporter": "python",
   "pygments_lexer": "ipython3",
   "version": "3.10.8"
  },
  "orig_nbformat": 4,
  "vscode": {
   "interpreter": {
    "hash": "34d3564aebb0ad63b6673275ac6fa9b7422ce122acee802f48c8e7274557cb2a"
   }
  }
 },
 "nbformat": 4,
 "nbformat_minor": 2
}
