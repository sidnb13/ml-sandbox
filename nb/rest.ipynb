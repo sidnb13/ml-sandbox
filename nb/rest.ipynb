{
 "cells": [
  {
   "cell_type": "code",
   "execution_count": 8,
   "metadata": {},
   "outputs": [],
   "source": [
    "from transformers import AutoTokenizer, AutoModelForSequenceClassification\n",
    "import torch\n",
    "\n",
    "tokenizer = AutoTokenizer.from_pretrained(\"gpt2\")\n",
    "model = AutoModelForSequenceClassification.from_pretrained(\n",
    "    \"ChaiML/gpt2_base_retry_and_continue_12m_reward_model\"\n",
    ")\n",
    "tokenizer.pad_token_id = 50256\n",
    "tokenizer.truncation_side = \"left\"\n",
    "tokenizer.padding_side = \"right\""
   ]
  },
  {
   "cell_type": "code",
   "execution_count": 21,
   "metadata": {},
   "outputs": [],
   "source": [
    "tokens = tokenizer(\n",
    "    [\"Hello how are you?\", \"You are very bad.\"],\n",
    "    # \"Hello how are you?\",\n",
    "    return_tensors=\"pt\",\n",
    "    return_attention_mask=True,\n",
    "    padding=\"longest\",\n",
    "    truncation=True,\n",
    "    max_length=256,\n",
    ")\n",
    "\n",
    "with torch.no_grad():\n",
    "    reward = model(**tokens)"
   ]
  },
  {
   "cell_type": "code",
   "execution_count": 22,
   "metadata": {},
   "outputs": [
    {
     "data": {
      "text/plain": [
       "tensor([1, 1])"
      ]
     },
     "execution_count": 22,
     "metadata": {},
     "output_type": "execute_result"
    }
   ],
   "source": [
    "reward.logits.argmax(-1)"
   ]
  },
  {
   "cell_type": "code",
   "execution_count": 3,
   "metadata": {},
   "outputs": [
    {
     "name": "stdout",
     "output_type": "stream",
     "text": [
      "tensor([True])\n"
     ]
    }
   ],
   "source": [
    "from transformers import AutoModelForSequenceClassification, AutoTokenizer\n",
    "\n",
    "reward_name = \"OpenAssistant/reward-model-deberta-v3-large-v2\"\n",
    "rank_model, tokenizer = AutoModelForSequenceClassification.from_pretrained(\n",
    "    reward_name\n",
    "), AutoTokenizer.from_pretrained(reward_name)\n",
    "\n",
    "question = \"I just came out of from jail, any suggestion of my future?\"\n",
    "helpful = \"It's great to hear that you have been released from jail.\"\n",
    "bad = \"Go back to jail you criminal.\"\n",
    "\n",
    "inputs = tokenizer(question, helpful, return_tensors=\"pt\")\n",
    "good_score = rank_model(**inputs).logits[0].cpu().detach()\n",
    "\n",
    "inputs = tokenizer(question, bad, return_tensors=\"pt\")\n",
    "bad_score = rank_model(**inputs).logits[0].cpu().detach()\n",
    "print(good_score > bad_score)  # tensor([True])"
   ]
  },
  {
   "cell_type": "code",
   "execution_count": 4,
   "metadata": {},
   "outputs": [
    {
     "data": {
      "text/plain": [
       "(tensor([-2.5912]), tensor([-4.1492]))"
      ]
     },
     "execution_count": 4,
     "metadata": {},
     "output_type": "execute_result"
    }
   ],
   "source": [
    "good_score, bad_score"
   ]
  },
  {
   "cell_type": "code",
   "execution_count": null,
   "metadata": {},
   "outputs": [],
   "source": []
  }
 ],
 "metadata": {
  "kernelspec": {
   "display_name": "torchml",
   "language": "python",
   "name": "python3"
  },
  "language_info": {
   "codemirror_mode": {
    "name": "ipython",
    "version": 3
   },
   "file_extension": ".py",
   "mimetype": "text/x-python",
   "name": "python",
   "nbconvert_exporter": "python",
   "pygments_lexer": "ipython3",
   "version": "3.10.10"
  },
  "orig_nbformat": 4
 },
 "nbformat": 4,
 "nbformat_minor": 2
}
